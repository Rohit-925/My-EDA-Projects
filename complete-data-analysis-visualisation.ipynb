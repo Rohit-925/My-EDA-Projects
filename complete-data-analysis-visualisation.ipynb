{
 "cells": [
  {
   "cell_type": "markdown",
   "metadata": {
    "id": "DrOQ77xT0I8T",
    "papermill": {
     "duration": 0.028444,
     "end_time": "2022-06-07T11:47:20.375227",
     "exception": false,
     "start_time": "2022-06-07T11:47:20.346783",
     "status": "completed"
    },
    "tags": []
   },
   "source": [
    "# **Supermarket Rating Kaggle**\n",
    "**Complete Data Analysis and Data Visualisation**"
   ]
  },
  {
   "cell_type": "code",
   "execution_count": 1,
   "metadata": {
    "execution": {
     "iopub.execute_input": "2022-06-07T11:47:20.433311Z",
     "iopub.status.busy": "2022-06-07T11:47:20.432559Z",
     "iopub.status.idle": "2022-06-07T11:47:21.416678Z",
     "shell.execute_reply": "2022-06-07T11:47:21.415658Z",
     "shell.execute_reply.started": "2022-06-07T11:45:55.870343Z"
    },
    "id": "tuSH6dACmcVh",
    "papermill": {
     "duration": 1.014486,
     "end_time": "2022-06-07T11:47:21.416840",
     "exception": false,
     "start_time": "2022-06-07T11:47:20.402354",
     "status": "completed"
    },
    "tags": []
   },
   "outputs": [],
   "source": [
    "import pandas as pd\n",
    "import numpy as np\n",
    "import matplotlib.pyplot as plt\n",
    "import seaborn as sns"
   ]
  },
  {
   "cell_type": "code",
   "execution_count": 2,
   "metadata": {
    "execution": {
     "iopub.execute_input": "2022-06-07T11:47:21.487598Z",
     "iopub.status.busy": "2022-06-07T11:47:21.486819Z",
     "iopub.status.idle": "2022-06-07T11:47:21.538306Z",
     "shell.execute_reply": "2022-06-07T11:47:21.537568Z",
     "shell.execute_reply.started": "2022-06-07T11:45:57.564611Z"
    },
    "id": "DzCvM5MxnAoG",
    "outputId": "9aca5c21-0ca8-4eae-b258-d13f0599924d",
    "papermill": {
     "duration": 0.093208,
     "end_time": "2022-06-07T11:47:21.538448",
     "exception": false,
     "start_time": "2022-06-07T11:47:21.445240",
     "status": "completed"
    },
    "tags": []
   },
   "outputs": [
    {
     "data": {
      "text/html": [
       "<div>\n",
       "<style scoped>\n",
       "    .dataframe tbody tr th:only-of-type {\n",
       "        vertical-align: middle;\n",
       "    }\n",
       "\n",
       "    .dataframe tbody tr th {\n",
       "        vertical-align: top;\n",
       "    }\n",
       "\n",
       "    .dataframe thead th {\n",
       "        text-align: right;\n",
       "    }\n",
       "</style>\n",
       "<table border=\"1\" class=\"dataframe\">\n",
       "  <thead>\n",
       "    <tr style=\"text-align: right;\">\n",
       "      <th></th>\n",
       "      <th>Invoice ID</th>\n",
       "      <th>Branch</th>\n",
       "      <th>City</th>\n",
       "      <th>Customer type</th>\n",
       "      <th>Gender</th>\n",
       "      <th>Product line</th>\n",
       "      <th>Unit price</th>\n",
       "      <th>Quantity</th>\n",
       "      <th>Tax 5%</th>\n",
       "      <th>Total</th>\n",
       "      <th>Date</th>\n",
       "      <th>Time</th>\n",
       "      <th>Payment</th>\n",
       "      <th>cogs</th>\n",
       "      <th>gross margin percentage</th>\n",
       "      <th>gross income</th>\n",
       "      <th>Rating</th>\n",
       "    </tr>\n",
       "  </thead>\n",
       "  <tbody>\n",
       "    <tr>\n",
       "      <th>0</th>\n",
       "      <td>750-67-8428</td>\n",
       "      <td>A</td>\n",
       "      <td>Yangon</td>\n",
       "      <td>Member</td>\n",
       "      <td>Female</td>\n",
       "      <td>Health and beauty</td>\n",
       "      <td>74.69</td>\n",
       "      <td>7</td>\n",
       "      <td>26.1415</td>\n",
       "      <td>548.9715</td>\n",
       "      <td>1/5/2019</td>\n",
       "      <td>13:08</td>\n",
       "      <td>Ewallet</td>\n",
       "      <td>522.83</td>\n",
       "      <td>4.761905</td>\n",
       "      <td>26.1415</td>\n",
       "      <td>9.1</td>\n",
       "    </tr>\n",
       "    <tr>\n",
       "      <th>1</th>\n",
       "      <td>226-31-3081</td>\n",
       "      <td>C</td>\n",
       "      <td>Naypyitaw</td>\n",
       "      <td>Normal</td>\n",
       "      <td>Female</td>\n",
       "      <td>Electronic accessories</td>\n",
       "      <td>15.28</td>\n",
       "      <td>5</td>\n",
       "      <td>3.8200</td>\n",
       "      <td>80.2200</td>\n",
       "      <td>3/8/2019</td>\n",
       "      <td>10:29</td>\n",
       "      <td>Cash</td>\n",
       "      <td>76.40</td>\n",
       "      <td>4.761905</td>\n",
       "      <td>3.8200</td>\n",
       "      <td>9.6</td>\n",
       "    </tr>\n",
       "    <tr>\n",
       "      <th>2</th>\n",
       "      <td>631-41-3108</td>\n",
       "      <td>A</td>\n",
       "      <td>Yangon</td>\n",
       "      <td>Normal</td>\n",
       "      <td>Male</td>\n",
       "      <td>Home and lifestyle</td>\n",
       "      <td>46.33</td>\n",
       "      <td>7</td>\n",
       "      <td>16.2155</td>\n",
       "      <td>340.5255</td>\n",
       "      <td>3/3/2019</td>\n",
       "      <td>13:23</td>\n",
       "      <td>Credit card</td>\n",
       "      <td>324.31</td>\n",
       "      <td>4.761905</td>\n",
       "      <td>16.2155</td>\n",
       "      <td>7.4</td>\n",
       "    </tr>\n",
       "    <tr>\n",
       "      <th>3</th>\n",
       "      <td>123-19-1176</td>\n",
       "      <td>A</td>\n",
       "      <td>Yangon</td>\n",
       "      <td>Member</td>\n",
       "      <td>Male</td>\n",
       "      <td>Health and beauty</td>\n",
       "      <td>58.22</td>\n",
       "      <td>8</td>\n",
       "      <td>23.2880</td>\n",
       "      <td>489.0480</td>\n",
       "      <td>1/27/2019</td>\n",
       "      <td>20:33</td>\n",
       "      <td>Ewallet</td>\n",
       "      <td>465.76</td>\n",
       "      <td>4.761905</td>\n",
       "      <td>23.2880</td>\n",
       "      <td>8.4</td>\n",
       "    </tr>\n",
       "    <tr>\n",
       "      <th>4</th>\n",
       "      <td>373-73-7910</td>\n",
       "      <td>A</td>\n",
       "      <td>Yangon</td>\n",
       "      <td>Normal</td>\n",
       "      <td>Male</td>\n",
       "      <td>Sports and travel</td>\n",
       "      <td>86.31</td>\n",
       "      <td>7</td>\n",
       "      <td>30.2085</td>\n",
       "      <td>634.3785</td>\n",
       "      <td>2/8/2019</td>\n",
       "      <td>10:37</td>\n",
       "      <td>Ewallet</td>\n",
       "      <td>604.17</td>\n",
       "      <td>4.761905</td>\n",
       "      <td>30.2085</td>\n",
       "      <td>5.3</td>\n",
       "    </tr>\n",
       "  </tbody>\n",
       "</table>\n",
       "</div>"
      ],
      "text/plain": [
       "    Invoice ID Branch       City Customer type  Gender  \\\n",
       "0  750-67-8428      A     Yangon        Member  Female   \n",
       "1  226-31-3081      C  Naypyitaw        Normal  Female   \n",
       "2  631-41-3108      A     Yangon        Normal    Male   \n",
       "3  123-19-1176      A     Yangon        Member    Male   \n",
       "4  373-73-7910      A     Yangon        Normal    Male   \n",
       "\n",
       "             Product line  Unit price  Quantity   Tax 5%     Total       Date  \\\n",
       "0       Health and beauty       74.69         7  26.1415  548.9715   1/5/2019   \n",
       "1  Electronic accessories       15.28         5   3.8200   80.2200   3/8/2019   \n",
       "2      Home and lifestyle       46.33         7  16.2155  340.5255   3/3/2019   \n",
       "3       Health and beauty       58.22         8  23.2880  489.0480  1/27/2019   \n",
       "4       Sports and travel       86.31         7  30.2085  634.3785   2/8/2019   \n",
       "\n",
       "    Time      Payment    cogs  gross margin percentage  gross income  Rating  \n",
       "0  13:08      Ewallet  522.83                 4.761905       26.1415     9.1  \n",
       "1  10:29         Cash   76.40                 4.761905        3.8200     9.6  \n",
       "2  13:23  Credit card  324.31                 4.761905       16.2155     7.4  \n",
       "3  20:33      Ewallet  465.76                 4.761905       23.2880     8.4  \n",
       "4  10:37      Ewallet  604.17                 4.761905       30.2085     5.3  "
      ]
     },
     "execution_count": 2,
     "metadata": {},
     "output_type": "execute_result"
    }
   ],
   "source": [
    "df = pd.read_csv('../input/supermarket-sales/supermarket_sales - Sheet1.csv')\n",
    "df.head()"
   ]
  },
  {
   "cell_type": "code",
   "execution_count": 3,
   "metadata": {
    "execution": {
     "iopub.execute_input": "2022-06-07T11:47:21.604257Z",
     "iopub.status.busy": "2022-06-07T11:47:21.603524Z",
     "iopub.status.idle": "2022-06-07T11:47:21.636554Z",
     "shell.execute_reply": "2022-06-07T11:47:21.635864Z",
     "shell.execute_reply.started": "2022-06-07T11:46:00.032706Z"
    },
    "id": "elrv32nXo7d9",
    "outputId": "81cb1e0b-edd3-4f94-8893-1a19d6773fba",
    "papermill": {
     "duration": 0.070177,
     "end_time": "2022-06-07T11:47:21.636687",
     "exception": false,
     "start_time": "2022-06-07T11:47:21.566510",
     "status": "completed"
    },
    "tags": []
   },
   "outputs": [
    {
     "data": {
      "text/html": [
       "<div>\n",
       "<style scoped>\n",
       "    .dataframe tbody tr th:only-of-type {\n",
       "        vertical-align: middle;\n",
       "    }\n",
       "\n",
       "    .dataframe tbody tr th {\n",
       "        vertical-align: top;\n",
       "    }\n",
       "\n",
       "    .dataframe thead th {\n",
       "        text-align: right;\n",
       "    }\n",
       "</style>\n",
       "<table border=\"1\" class=\"dataframe\">\n",
       "  <thead>\n",
       "    <tr style=\"text-align: right;\">\n",
       "      <th></th>\n",
       "      <th>Unit price</th>\n",
       "      <th>Quantity</th>\n",
       "      <th>Tax 5%</th>\n",
       "      <th>Total</th>\n",
       "      <th>cogs</th>\n",
       "      <th>gross margin percentage</th>\n",
       "      <th>gross income</th>\n",
       "      <th>Rating</th>\n",
       "    </tr>\n",
       "  </thead>\n",
       "  <tbody>\n",
       "    <tr>\n",
       "      <th>count</th>\n",
       "      <td>1000.000000</td>\n",
       "      <td>1000.000000</td>\n",
       "      <td>1000.000000</td>\n",
       "      <td>1000.000000</td>\n",
       "      <td>1000.00000</td>\n",
       "      <td>1.000000e+03</td>\n",
       "      <td>1000.000000</td>\n",
       "      <td>1000.00000</td>\n",
       "    </tr>\n",
       "    <tr>\n",
       "      <th>mean</th>\n",
       "      <td>55.672130</td>\n",
       "      <td>5.510000</td>\n",
       "      <td>15.379369</td>\n",
       "      <td>322.966749</td>\n",
       "      <td>307.58738</td>\n",
       "      <td>4.761905e+00</td>\n",
       "      <td>15.379369</td>\n",
       "      <td>6.97270</td>\n",
       "    </tr>\n",
       "    <tr>\n",
       "      <th>std</th>\n",
       "      <td>26.494628</td>\n",
       "      <td>2.923431</td>\n",
       "      <td>11.708825</td>\n",
       "      <td>245.885335</td>\n",
       "      <td>234.17651</td>\n",
       "      <td>6.220360e-14</td>\n",
       "      <td>11.708825</td>\n",
       "      <td>1.71858</td>\n",
       "    </tr>\n",
       "    <tr>\n",
       "      <th>min</th>\n",
       "      <td>10.080000</td>\n",
       "      <td>1.000000</td>\n",
       "      <td>0.508500</td>\n",
       "      <td>10.678500</td>\n",
       "      <td>10.17000</td>\n",
       "      <td>4.761905e+00</td>\n",
       "      <td>0.508500</td>\n",
       "      <td>4.00000</td>\n",
       "    </tr>\n",
       "    <tr>\n",
       "      <th>25%</th>\n",
       "      <td>32.875000</td>\n",
       "      <td>3.000000</td>\n",
       "      <td>5.924875</td>\n",
       "      <td>124.422375</td>\n",
       "      <td>118.49750</td>\n",
       "      <td>4.761905e+00</td>\n",
       "      <td>5.924875</td>\n",
       "      <td>5.50000</td>\n",
       "    </tr>\n",
       "    <tr>\n",
       "      <th>50%</th>\n",
       "      <td>55.230000</td>\n",
       "      <td>5.000000</td>\n",
       "      <td>12.088000</td>\n",
       "      <td>253.848000</td>\n",
       "      <td>241.76000</td>\n",
       "      <td>4.761905e+00</td>\n",
       "      <td>12.088000</td>\n",
       "      <td>7.00000</td>\n",
       "    </tr>\n",
       "    <tr>\n",
       "      <th>75%</th>\n",
       "      <td>77.935000</td>\n",
       "      <td>8.000000</td>\n",
       "      <td>22.445250</td>\n",
       "      <td>471.350250</td>\n",
       "      <td>448.90500</td>\n",
       "      <td>4.761905e+00</td>\n",
       "      <td>22.445250</td>\n",
       "      <td>8.50000</td>\n",
       "    </tr>\n",
       "    <tr>\n",
       "      <th>max</th>\n",
       "      <td>99.960000</td>\n",
       "      <td>10.000000</td>\n",
       "      <td>49.650000</td>\n",
       "      <td>1042.650000</td>\n",
       "      <td>993.00000</td>\n",
       "      <td>4.761905e+00</td>\n",
       "      <td>49.650000</td>\n",
       "      <td>10.00000</td>\n",
       "    </tr>\n",
       "  </tbody>\n",
       "</table>\n",
       "</div>"
      ],
      "text/plain": [
       "        Unit price     Quantity       Tax 5%        Total        cogs  \\\n",
       "count  1000.000000  1000.000000  1000.000000  1000.000000  1000.00000   \n",
       "mean     55.672130     5.510000    15.379369   322.966749   307.58738   \n",
       "std      26.494628     2.923431    11.708825   245.885335   234.17651   \n",
       "min      10.080000     1.000000     0.508500    10.678500    10.17000   \n",
       "25%      32.875000     3.000000     5.924875   124.422375   118.49750   \n",
       "50%      55.230000     5.000000    12.088000   253.848000   241.76000   \n",
       "75%      77.935000     8.000000    22.445250   471.350250   448.90500   \n",
       "max      99.960000    10.000000    49.650000  1042.650000   993.00000   \n",
       "\n",
       "       gross margin percentage  gross income      Rating  \n",
       "count             1.000000e+03   1000.000000  1000.00000  \n",
       "mean              4.761905e+00     15.379369     6.97270  \n",
       "std               6.220360e-14     11.708825     1.71858  \n",
       "min               4.761905e+00      0.508500     4.00000  \n",
       "25%               4.761905e+00      5.924875     5.50000  \n",
       "50%               4.761905e+00     12.088000     7.00000  \n",
       "75%               4.761905e+00     22.445250     8.50000  \n",
       "max               4.761905e+00     49.650000    10.00000  "
      ]
     },
     "execution_count": 3,
     "metadata": {},
     "output_type": "execute_result"
    }
   ],
   "source": [
    "df.describe()"
   ]
  },
  {
   "cell_type": "code",
   "execution_count": 4,
   "metadata": {
    "execution": {
     "iopub.execute_input": "2022-06-07T11:47:21.712161Z",
     "iopub.status.busy": "2022-06-07T11:47:21.711387Z",
     "iopub.status.idle": "2022-06-07T11:47:21.716683Z",
     "shell.execute_reply": "2022-06-07T11:47:21.716056Z",
     "shell.execute_reply.started": "2022-06-07T11:46:01.768152Z"
    },
    "id": "8zCVC_s94DHL",
    "outputId": "9ca3b6eb-9e08-4ba8-b95a-295057b8fe37",
    "papermill": {
     "duration": 0.051651,
     "end_time": "2022-06-07T11:47:21.716812",
     "exception": false,
     "start_time": "2022-06-07T11:47:21.665161",
     "status": "completed"
    },
    "tags": []
   },
   "outputs": [
    {
     "name": "stdout",
     "output_type": "stream",
     "text": [
      "<class 'pandas.core.frame.DataFrame'>\n",
      "RangeIndex: 1000 entries, 0 to 999\n",
      "Data columns (total 17 columns):\n",
      " #   Column                   Non-Null Count  Dtype  \n",
      "---  ------                   --------------  -----  \n",
      " 0   Invoice ID               1000 non-null   object \n",
      " 1   Branch                   1000 non-null   object \n",
      " 2   City                     1000 non-null   object \n",
      " 3   Customer type            1000 non-null   object \n",
      " 4   Gender                   1000 non-null   object \n",
      " 5   Product line             1000 non-null   object \n",
      " 6   Unit price               1000 non-null   float64\n",
      " 7   Quantity                 1000 non-null   int64  \n",
      " 8   Tax 5%                   1000 non-null   float64\n",
      " 9   Total                    1000 non-null   float64\n",
      " 10  Date                     1000 non-null   object \n",
      " 11  Time                     1000 non-null   object \n",
      " 12  Payment                  1000 non-null   object \n",
      " 13  cogs                     1000 non-null   float64\n",
      " 14  gross margin percentage  1000 non-null   float64\n",
      " 15  gross income             1000 non-null   float64\n",
      " 16  Rating                   1000 non-null   float64\n",
      "dtypes: float64(7), int64(1), object(9)\n",
      "memory usage: 132.9+ KB\n"
     ]
    }
   ],
   "source": [
    "df.info()"
   ]
  },
  {
   "cell_type": "code",
   "execution_count": 5,
   "metadata": {
    "execution": {
     "iopub.execute_input": "2022-06-07T11:47:21.784462Z",
     "iopub.status.busy": "2022-06-07T11:47:21.783746Z",
     "iopub.status.idle": "2022-06-07T11:47:21.788708Z",
     "shell.execute_reply": "2022-06-07T11:47:21.788171Z",
     "shell.execute_reply.started": "2022-06-07T11:46:05.526658Z"
    },
    "id": "QH3hvbjp4FYD",
    "outputId": "8311bc63-971f-4203-9779-e61bf3c353e4",
    "papermill": {
     "duration": 0.043203,
     "end_time": "2022-06-07T11:47:21.788828",
     "exception": false,
     "start_time": "2022-06-07T11:47:21.745625",
     "status": "completed"
    },
    "tags": []
   },
   "outputs": [
    {
     "data": {
      "text/plain": [
       "Invoice ID                 0\n",
       "Branch                     0\n",
       "City                       0\n",
       "Customer type              0\n",
       "Gender                     0\n",
       "Product line               0\n",
       "Unit price                 0\n",
       "Quantity                   0\n",
       "Tax 5%                     0\n",
       "Total                      0\n",
       "Date                       0\n",
       "Time                       0\n",
       "Payment                    0\n",
       "cogs                       0\n",
       "gross margin percentage    0\n",
       "gross income               0\n",
       "Rating                     0\n",
       "dtype: int64"
      ]
     },
     "execution_count": 5,
     "metadata": {},
     "output_type": "execute_result"
    }
   ],
   "source": [
    "df.isnull().sum()\n"
   ]
  },
  {
   "cell_type": "code",
   "execution_count": 6,
   "metadata": {
    "execution": {
     "iopub.execute_input": "2022-06-07T11:47:21.856653Z",
     "iopub.status.busy": "2022-06-07T11:47:21.855702Z",
     "iopub.status.idle": "2022-06-07T11:47:21.860282Z",
     "shell.execute_reply": "2022-06-07T11:47:21.859609Z",
     "shell.execute_reply.started": "2022-06-07T11:46:08.295130Z"
    },
    "id": "HHAmYEKl4Iuj",
    "papermill": {
     "duration": 0.04254,
     "end_time": "2022-06-07T11:47:21.860416",
     "exception": false,
     "start_time": "2022-06-07T11:47:21.817876",
     "status": "completed"
    },
    "tags": []
   },
   "outputs": [],
   "source": [
    "df = df.drop(['Invoice ID', 'Date', 'Time'], axis = 1)"
   ]
  },
  {
   "cell_type": "code",
   "execution_count": 7,
   "metadata": {
    "execution": {
     "iopub.execute_input": "2022-06-07T11:47:21.925426Z",
     "iopub.status.busy": "2022-06-07T11:47:21.924751Z",
     "iopub.status.idle": "2022-06-07T11:47:21.928868Z",
     "shell.execute_reply": "2022-06-07T11:47:21.928307Z",
     "shell.execute_reply.started": "2022-06-07T11:46:10.052735Z"
    },
    "id": "T9gkthKd5xW1",
    "outputId": "03ca3331-e52c-46f4-d317-23baee76a4cd",
    "papermill": {
     "duration": 0.039226,
     "end_time": "2022-06-07T11:47:21.928982",
     "exception": false,
     "start_time": "2022-06-07T11:47:21.889756",
     "status": "completed"
    },
    "tags": []
   },
   "outputs": [
    {
     "data": {
      "text/plain": [
       "array([4.76190476])"
      ]
     },
     "execution_count": 7,
     "metadata": {},
     "output_type": "execute_result"
    }
   ],
   "source": [
    "# cogs - cost of goods sold\n",
    "df['gross margin percentage'].unique()"
   ]
  },
  {
   "cell_type": "code",
   "execution_count": 8,
   "metadata": {
    "execution": {
     "iopub.execute_input": "2022-06-07T11:47:21.995444Z",
     "iopub.status.busy": "2022-06-07T11:47:21.994713Z",
     "iopub.status.idle": "2022-06-07T11:47:21.998075Z",
     "shell.execute_reply": "2022-06-07T11:47:21.997494Z",
     "shell.execute_reply.started": "2022-06-07T11:46:11.946700Z"
    },
    "id": "ChUSDsYd7oOW",
    "papermill": {
     "duration": 0.039272,
     "end_time": "2022-06-07T11:47:21.998204",
     "exception": false,
     "start_time": "2022-06-07T11:47:21.958932",
     "status": "completed"
    },
    "tags": []
   },
   "outputs": [],
   "source": [
    "df = df.drop(['gross margin percentage'], axis = 1)"
   ]
  },
  {
   "cell_type": "code",
   "execution_count": 9,
   "metadata": {
    "execution": {
     "iopub.execute_input": "2022-06-07T11:47:22.060774Z",
     "iopub.status.busy": "2022-06-07T11:47:22.060055Z",
     "iopub.status.idle": "2022-06-07T11:47:22.080154Z",
     "shell.execute_reply": "2022-06-07T11:47:22.080792Z",
     "shell.execute_reply.started": "2022-06-07T11:46:13.627196Z"
    },
    "id": "Anz8kZqA7wR0",
    "outputId": "3b595568-9b16-4a3e-d50c-1b70c3b3b9a3",
    "papermill": {
     "duration": 0.053236,
     "end_time": "2022-06-07T11:47:22.080935",
     "exception": false,
     "start_time": "2022-06-07T11:47:22.027699",
     "status": "completed"
    },
    "tags": []
   },
   "outputs": [
    {
     "data": {
      "text/html": [
       "<div>\n",
       "<style scoped>\n",
       "    .dataframe tbody tr th:only-of-type {\n",
       "        vertical-align: middle;\n",
       "    }\n",
       "\n",
       "    .dataframe tbody tr th {\n",
       "        vertical-align: top;\n",
       "    }\n",
       "\n",
       "    .dataframe thead th {\n",
       "        text-align: right;\n",
       "    }\n",
       "</style>\n",
       "<table border=\"1\" class=\"dataframe\">\n",
       "  <thead>\n",
       "    <tr style=\"text-align: right;\">\n",
       "      <th></th>\n",
       "      <th>Branch</th>\n",
       "      <th>City</th>\n",
       "      <th>Customer type</th>\n",
       "      <th>Gender</th>\n",
       "      <th>Product line</th>\n",
       "      <th>Unit price</th>\n",
       "      <th>Quantity</th>\n",
       "      <th>Tax 5%</th>\n",
       "      <th>Total</th>\n",
       "      <th>Payment</th>\n",
       "      <th>cogs</th>\n",
       "      <th>gross income</th>\n",
       "      <th>Rating</th>\n",
       "    </tr>\n",
       "  </thead>\n",
       "  <tbody>\n",
       "    <tr>\n",
       "      <th>0</th>\n",
       "      <td>A</td>\n",
       "      <td>Yangon</td>\n",
       "      <td>Member</td>\n",
       "      <td>Female</td>\n",
       "      <td>Health and beauty</td>\n",
       "      <td>74.69</td>\n",
       "      <td>7</td>\n",
       "      <td>26.1415</td>\n",
       "      <td>548.9715</td>\n",
       "      <td>Ewallet</td>\n",
       "      <td>522.83</td>\n",
       "      <td>26.1415</td>\n",
       "      <td>9.1</td>\n",
       "    </tr>\n",
       "    <tr>\n",
       "      <th>1</th>\n",
       "      <td>C</td>\n",
       "      <td>Naypyitaw</td>\n",
       "      <td>Normal</td>\n",
       "      <td>Female</td>\n",
       "      <td>Electronic accessories</td>\n",
       "      <td>15.28</td>\n",
       "      <td>5</td>\n",
       "      <td>3.8200</td>\n",
       "      <td>80.2200</td>\n",
       "      <td>Cash</td>\n",
       "      <td>76.40</td>\n",
       "      <td>3.8200</td>\n",
       "      <td>9.6</td>\n",
       "    </tr>\n",
       "    <tr>\n",
       "      <th>2</th>\n",
       "      <td>A</td>\n",
       "      <td>Yangon</td>\n",
       "      <td>Normal</td>\n",
       "      <td>Male</td>\n",
       "      <td>Home and lifestyle</td>\n",
       "      <td>46.33</td>\n",
       "      <td>7</td>\n",
       "      <td>16.2155</td>\n",
       "      <td>340.5255</td>\n",
       "      <td>Credit card</td>\n",
       "      <td>324.31</td>\n",
       "      <td>16.2155</td>\n",
       "      <td>7.4</td>\n",
       "    </tr>\n",
       "    <tr>\n",
       "      <th>3</th>\n",
       "      <td>A</td>\n",
       "      <td>Yangon</td>\n",
       "      <td>Member</td>\n",
       "      <td>Male</td>\n",
       "      <td>Health and beauty</td>\n",
       "      <td>58.22</td>\n",
       "      <td>8</td>\n",
       "      <td>23.2880</td>\n",
       "      <td>489.0480</td>\n",
       "      <td>Ewallet</td>\n",
       "      <td>465.76</td>\n",
       "      <td>23.2880</td>\n",
       "      <td>8.4</td>\n",
       "    </tr>\n",
       "    <tr>\n",
       "      <th>4</th>\n",
       "      <td>A</td>\n",
       "      <td>Yangon</td>\n",
       "      <td>Normal</td>\n",
       "      <td>Male</td>\n",
       "      <td>Sports and travel</td>\n",
       "      <td>86.31</td>\n",
       "      <td>7</td>\n",
       "      <td>30.2085</td>\n",
       "      <td>634.3785</td>\n",
       "      <td>Ewallet</td>\n",
       "      <td>604.17</td>\n",
       "      <td>30.2085</td>\n",
       "      <td>5.3</td>\n",
       "    </tr>\n",
       "  </tbody>\n",
       "</table>\n",
       "</div>"
      ],
      "text/plain": [
       "  Branch       City Customer type  Gender            Product line  Unit price  \\\n",
       "0      A     Yangon        Member  Female       Health and beauty       74.69   \n",
       "1      C  Naypyitaw        Normal  Female  Electronic accessories       15.28   \n",
       "2      A     Yangon        Normal    Male      Home and lifestyle       46.33   \n",
       "3      A     Yangon        Member    Male       Health and beauty       58.22   \n",
       "4      A     Yangon        Normal    Male       Sports and travel       86.31   \n",
       "\n",
       "   Quantity   Tax 5%     Total      Payment    cogs  gross income  Rating  \n",
       "0         7  26.1415  548.9715      Ewallet  522.83       26.1415     9.1  \n",
       "1         5   3.8200   80.2200         Cash   76.40        3.8200     9.6  \n",
       "2         7  16.2155  340.5255  Credit card  324.31       16.2155     7.4  \n",
       "3         8  23.2880  489.0480      Ewallet  465.76       23.2880     8.4  \n",
       "4         7  30.2085  634.3785      Ewallet  604.17       30.2085     5.3  "
      ]
     },
     "execution_count": 9,
     "metadata": {},
     "output_type": "execute_result"
    }
   ],
   "source": [
    "df.head(5)"
   ]
  },
  {
   "cell_type": "markdown",
   "metadata": {
    "id": "evHmFS4MURY2",
    "papermill": {
     "duration": 0.030081,
     "end_time": "2022-06-07T11:47:22.140856",
     "exception": false,
     "start_time": "2022-06-07T11:47:22.110775",
     "status": "completed"
    },
    "tags": []
   },
   "source": [
    "## **Data Visualisation**"
   ]
  },
  {
   "cell_type": "markdown",
   "metadata": {
    "id": "db9OXNgsYAD4",
    "papermill": {
     "duration": 0.030017,
     "end_time": "2022-06-07T11:47:22.200820",
     "exception": false,
     "start_time": "2022-06-07T11:47:22.170803",
     "status": "completed"
    },
    "tags": []
   },
   "source": [
    "**Below graph shows count of females and males is almost same** "
   ]
  },
  {
   "cell_type": "code",
   "execution_count": 10,
   "metadata": {
    "execution": {
     "iopub.execute_input": "2022-06-07T11:47:22.266012Z",
     "iopub.status.busy": "2022-06-07T11:47:22.265361Z",
     "iopub.status.idle": "2022-06-07T11:47:22.274057Z",
     "shell.execute_reply": "2022-06-07T11:47:22.274582Z",
     "shell.execute_reply.started": "2022-06-07T11:46:17.332345Z"
    },
    "id": "NrX6aCsLbk6U",
    "outputId": "89163a9b-3fd6-48cc-ae99-637ed8c74b8b",
    "papermill": {
     "duration": 0.044142,
     "end_time": "2022-06-07T11:47:22.274724",
     "exception": false,
     "start_time": "2022-06-07T11:47:22.230582",
     "status": "completed"
    },
    "tags": []
   },
   "outputs": [
    {
     "name": "stdout",
     "output_type": "stream",
     "text": [
      "(1000, 13)\n"
     ]
    },
    {
     "data": {
      "text/plain": [
       "Female    501\n",
       "Male      499\n",
       "Name: Gender, dtype: int64"
      ]
     },
     "execution_count": 10,
     "metadata": {},
     "output_type": "execute_result"
    }
   ],
   "source": [
    "print(df.shape)\n",
    "df['Gender'].value_counts()\n"
   ]
  },
  {
   "cell_type": "code",
   "execution_count": 11,
   "metadata": {
    "execution": {
     "iopub.execute_input": "2022-06-07T11:47:22.339363Z",
     "iopub.status.busy": "2022-06-07T11:47:22.338640Z",
     "iopub.status.idle": "2022-06-07T11:47:22.504973Z",
     "shell.execute_reply": "2022-06-07T11:47:22.504395Z",
     "shell.execute_reply.started": "2022-06-07T11:46:20.303086Z"
    },
    "id": "P-9Pq1tJ8EyU",
    "outputId": "a5d2d6c2-c774-4f91-9724-fce7269f3952",
    "papermill": {
     "duration": 0.200107,
     "end_time": "2022-06-07T11:47:22.505094",
     "exception": false,
     "start_time": "2022-06-07T11:47:22.304987",
     "status": "completed"
    },
    "tags": []
   },
   "outputs": [
    {
     "data": {
      "text/plain": [
       "<matplotlib.axes._subplots.AxesSubplot at 0x7f6ff56ffa90>"
      ]
     },
     "execution_count": 11,
     "metadata": {},
     "output_type": "execute_result"
    },
    {
     "data": {
      "image/png": "[encoded data removed]",
      "text/plain": [
       "<Figure size 432x288 with 1 Axes>"
      ]
     },
     "metadata": {
      "needs_background": "light"
     },
     "output_type": "display_data"
    }
   ],
   "source": [
    "sns.countplot('Gender' , data = df)"
   ]
  },
  {
   "cell_type": "markdown",
   "metadata": {
    "id": "v6P_JtOKYJ7v",
    "papermill": {
     "duration": 0.031235,
     "end_time": "2022-06-07T11:47:22.568699",
     "exception": false,
     "start_time": "2022-06-07T11:47:22.537464",
     "status": "completed"
    },
    "tags": []
   },
   "source": [
    "**Creating dummies for Gender column for getting numeric data for seaborn bar plot**"
   ]
  },
  {
   "cell_type": "code",
   "execution_count": 12,
   "metadata": {
    "execution": {
     "iopub.execute_input": "2022-06-07T11:47:22.639089Z",
     "iopub.status.busy": "2022-06-07T11:47:22.637125Z",
     "iopub.status.idle": "2022-06-07T11:47:22.648963Z",
     "shell.execute_reply": "2022-06-07T11:47:22.648354Z",
     "shell.execute_reply.started": "2022-06-07T11:46:22.046227Z"
    },
    "id": "skENBC06CwP0",
    "outputId": "f4630109-923d-43bd-b35d-255b43bd5e65",
    "papermill": {
     "duration": 0.048821,
     "end_time": "2022-06-07T11:47:22.649081",
     "exception": false,
     "start_time": "2022-06-07T11:47:22.600260",
     "status": "completed"
    },
    "tags": []
   },
   "outputs": [
    {
     "data": {
      "text/html": [
       "<div>\n",
       "<style scoped>\n",
       "    .dataframe tbody tr th:only-of-type {\n",
       "        vertical-align: middle;\n",
       "    }\n",
       "\n",
       "    .dataframe tbody tr th {\n",
       "        vertical-align: top;\n",
       "    }\n",
       "\n",
       "    .dataframe thead th {\n",
       "        text-align: right;\n",
       "    }\n",
       "</style>\n",
       "<table border=\"1\" class=\"dataframe\">\n",
       "  <thead>\n",
       "    <tr style=\"text-align: right;\">\n",
       "      <th></th>\n",
       "      <th>Female</th>\n",
       "      <th>Male</th>\n",
       "    </tr>\n",
       "  </thead>\n",
       "  <tbody>\n",
       "    <tr>\n",
       "      <th>0</th>\n",
       "      <td>1</td>\n",
       "      <td>0</td>\n",
       "    </tr>\n",
       "    <tr>\n",
       "      <th>1</th>\n",
       "      <td>1</td>\n",
       "      <td>0</td>\n",
       "    </tr>\n",
       "    <tr>\n",
       "      <th>2</th>\n",
       "      <td>0</td>\n",
       "      <td>1</td>\n",
       "    </tr>\n",
       "    <tr>\n",
       "      <th>3</th>\n",
       "      <td>0</td>\n",
       "      <td>1</td>\n",
       "    </tr>\n",
       "    <tr>\n",
       "      <th>4</th>\n",
       "      <td>0</td>\n",
       "      <td>1</td>\n",
       "    </tr>\n",
       "  </tbody>\n",
       "</table>\n",
       "</div>"
      ],
      "text/plain": [
       "   Female  Male\n",
       "0       1     0\n",
       "1       1     0\n",
       "2       0     1\n",
       "3       0     1\n",
       "4       0     1"
      ]
     },
     "execution_count": 12,
     "metadata": {},
     "output_type": "execute_result"
    }
   ],
   "source": [
    "gender_dummies  = pd.get_dummies(df['Gender'])\n",
    "gender_dummies.head()"
   ]
  },
  {
   "cell_type": "markdown",
   "metadata": {
    "id": "YZjjUIK4YeZW",
    "papermill": {
     "duration": 0.03316,
     "end_time": "2022-06-07T11:47:22.714200",
     "exception": false,
     "start_time": "2022-06-07T11:47:22.681040",
     "status": "completed"
    },
    "tags": []
   },
   "source": [
    "**Joining original data frame (df) with gender dummies data frame (gender_dummies)**"
   ]
  },
  {
   "cell_type": "code",
   "execution_count": 13,
   "metadata": {
    "execution": {
     "iopub.execute_input": "2022-06-07T11:47:22.816129Z",
     "iopub.status.busy": "2022-06-07T11:47:22.800709Z",
     "iopub.status.idle": "2022-06-07T11:47:22.821242Z",
     "shell.execute_reply": "2022-06-07T11:47:22.820559Z",
     "shell.execute_reply.started": "2022-06-07T11:46:24.150901Z"
    },
    "id": "x4hFMLp0XCIK",
    "outputId": "e2433acc-53d1-41d7-95aa-4f185bb34706",
    "papermill": {
     "duration": 0.0684,
     "end_time": "2022-06-07T11:47:22.821381",
     "exception": false,
     "start_time": "2022-06-07T11:47:22.752981",
     "status": "completed"
    },
    "tags": []
   },
   "outputs": [
    {
     "data": {
      "text/html": [
       "<div>\n",
       "<style scoped>\n",
       "    .dataframe tbody tr th:only-of-type {\n",
       "        vertical-align: middle;\n",
       "    }\n",
       "\n",
       "    .dataframe tbody tr th {\n",
       "        vertical-align: top;\n",
       "    }\n",
       "\n",
       "    .dataframe thead th {\n",
       "        text-align: right;\n",
       "    }\n",
       "</style>\n",
       "<table border=\"1\" class=\"dataframe\">\n",
       "  <thead>\n",
       "    <tr style=\"text-align: right;\">\n",
       "      <th></th>\n",
       "      <th>Branch</th>\n",
       "      <th>City</th>\n",
       "      <th>Customer type</th>\n",
       "      <th>Gender</th>\n",
       "      <th>Product line</th>\n",
       "      <th>Unit price</th>\n",
       "      <th>Quantity</th>\n",
       "      <th>Tax 5%</th>\n",
       "      <th>Total</th>\n",
       "      <th>Payment</th>\n",
       "      <th>cogs</th>\n",
       "      <th>gross income</th>\n",
       "      <th>Rating</th>\n",
       "      <th>Female</th>\n",
       "      <th>Male</th>\n",
       "    </tr>\n",
       "  </thead>\n",
       "  <tbody>\n",
       "    <tr>\n",
       "      <th>0</th>\n",
       "      <td>A</td>\n",
       "      <td>Yangon</td>\n",
       "      <td>Member</td>\n",
       "      <td>Female</td>\n",
       "      <td>Health and beauty</td>\n",
       "      <td>74.69</td>\n",
       "      <td>7</td>\n",
       "      <td>26.1415</td>\n",
       "      <td>548.9715</td>\n",
       "      <td>Ewallet</td>\n",
       "      <td>522.83</td>\n",
       "      <td>26.1415</td>\n",
       "      <td>9.1</td>\n",
       "      <td>1</td>\n",
       "      <td>0</td>\n",
       "    </tr>\n",
       "    <tr>\n",
       "      <th>1</th>\n",
       "      <td>C</td>\n",
       "      <td>Naypyitaw</td>\n",
       "      <td>Normal</td>\n",
       "      <td>Female</td>\n",
       "      <td>Electronic accessories</td>\n",
       "      <td>15.28</td>\n",
       "      <td>5</td>\n",
       "      <td>3.8200</td>\n",
       "      <td>80.2200</td>\n",
       "      <td>Cash</td>\n",
       "      <td>76.40</td>\n",
       "      <td>3.8200</td>\n",
       "      <td>9.6</td>\n",
       "      <td>1</td>\n",
       "      <td>0</td>\n",
       "    </tr>\n",
       "    <tr>\n",
       "      <th>2</th>\n",
       "      <td>A</td>\n",
       "      <td>Yangon</td>\n",
       "      <td>Normal</td>\n",
       "      <td>Male</td>\n",
       "      <td>Home and lifestyle</td>\n",
       "      <td>46.33</td>\n",
       "      <td>7</td>\n",
       "      <td>16.2155</td>\n",
       "      <td>340.5255</td>\n",
       "      <td>Credit card</td>\n",
       "      <td>324.31</td>\n",
       "      <td>16.2155</td>\n",
       "      <td>7.4</td>\n",
       "      <td>0</td>\n",
       "      <td>1</td>\n",
       "    </tr>\n",
       "    <tr>\n",
       "      <th>3</th>\n",
       "      <td>A</td>\n",
       "      <td>Yangon</td>\n",
       "      <td>Member</td>\n",
       "      <td>Male</td>\n",
       "      <td>Health and beauty</td>\n",
       "      <td>58.22</td>\n",
       "      <td>8</td>\n",
       "      <td>23.2880</td>\n",
       "      <td>489.0480</td>\n",
       "      <td>Ewallet</td>\n",
       "      <td>465.76</td>\n",
       "      <td>23.2880</td>\n",
       "      <td>8.4</td>\n",
       "      <td>0</td>\n",
       "      <td>1</td>\n",
       "    </tr>\n",
       "    <tr>\n",
       "      <th>4</th>\n",
       "      <td>A</td>\n",
       "      <td>Yangon</td>\n",
       "      <td>Normal</td>\n",
       "      <td>Male</td>\n",
       "      <td>Sports and travel</td>\n",
       "      <td>86.31</td>\n",
       "      <td>7</td>\n",
       "      <td>30.2085</td>\n",
       "      <td>634.3785</td>\n",
       "      <td>Ewallet</td>\n",
       "      <td>604.17</td>\n",
       "      <td>30.2085</td>\n",
       "      <td>5.3</td>\n",
       "      <td>0</td>\n",
       "      <td>1</td>\n",
       "    </tr>\n",
       "  </tbody>\n",
       "</table>\n",
       "</div>"
      ],
      "text/plain": [
       "  Branch       City Customer type  Gender            Product line  Unit price  \\\n",
       "0      A     Yangon        Member  Female       Health and beauty       74.69   \n",
       "1      C  Naypyitaw        Normal  Female  Electronic accessories       15.28   \n",
       "2      A     Yangon        Normal    Male      Home and lifestyle       46.33   \n",
       "3      A     Yangon        Member    Male       Health and beauty       58.22   \n",
       "4      A     Yangon        Normal    Male       Sports and travel       86.31   \n",
       "\n",
       "   Quantity   Tax 5%     Total      Payment    cogs  gross income  Rating  \\\n",
       "0         7  26.1415  548.9715      Ewallet  522.83       26.1415     9.1   \n",
       "1         5   3.8200   80.2200         Cash   76.40        3.8200     9.6   \n",
       "2         7  16.2155  340.5255  Credit card  324.31       16.2155     7.4   \n",
       "3         8  23.2880  489.0480      Ewallet  465.76       23.2880     8.4   \n",
       "4         7  30.2085  634.3785      Ewallet  604.17       30.2085     5.3   \n",
       "\n",
       "   Female  Male  \n",
       "0       1     0  \n",
       "1       1     0  \n",
       "2       0     1  \n",
       "3       0     1  \n",
       "4       0     1  "
      ]
     },
     "execution_count": 13,
     "metadata": {},
     "output_type": "execute_result"
    }
   ],
   "source": [
    "df = pd.concat([df, gender_dummies], axis = 1)\n",
    "df.head()"
   ]
  },
  {
   "cell_type": "code",
   "execution_count": 14,
   "metadata": {
    "execution": {
     "iopub.execute_input": "2022-06-07T11:47:22.893968Z",
     "iopub.status.busy": "2022-06-07T11:47:22.892828Z",
     "iopub.status.idle": "2022-06-07T11:47:23.318594Z",
     "shell.execute_reply": "2022-06-07T11:47:23.317859Z",
     "shell.execute_reply.started": "2022-06-07T11:46:26.257002Z"
    },
    "id": "YrmxVcScXLxB",
    "outputId": "9dff5e17-3895-44a4-c16e-63b422b3b448",
    "papermill": {
     "duration": 0.463545,
     "end_time": "2022-06-07T11:47:23.318733",
     "exception": false,
     "start_time": "2022-06-07T11:47:22.855188",
     "status": "completed"
    },
    "tags": []
   },
   "outputs": [
    {
     "data": {
      "text/plain": [
       "<matplotlib.axes._subplots.AxesSubplot at 0x7f6ff54f0950>"
      ]
     },
     "execution_count": 14,
     "metadata": {},
     "output_type": "execute_result"
    },
    {
     "data": {
      "image/png": "[encoded data removed]",
      "text/plain": [
       "<Figure size 864x432 with 1 Axes>"
      ]
     },
     "metadata": {
      "needs_background": "light"
     },
     "output_type": "display_data"
    }
   ],
   "source": [
    "plt.figure(figsize = (12,6))\n",
    "sns.barplot(x = 'Product line', y = 'Female', data = df)"
   ]
  },
  {
   "cell_type": "code",
   "execution_count": 15,
   "metadata": {
    "execution": {
     "iopub.execute_input": "2022-06-07T11:47:23.393823Z",
     "iopub.status.busy": "2022-06-07T11:47:23.392794Z",
     "iopub.status.idle": "2022-06-07T11:47:23.770428Z",
     "shell.execute_reply": "2022-06-07T11:47:23.769757Z",
     "shell.execute_reply.started": "2022-06-07T11:46:28.863656Z"
    },
    "id": "pjOPEJHnZlGX",
    "outputId": "f25a05d1-34e4-43e2-a2df-a044c91b77ae",
    "papermill": {
     "duration": 0.41766,
     "end_time": "2022-06-07T11:47:23.770579",
     "exception": false,
     "start_time": "2022-06-07T11:47:23.352919",
     "status": "completed"
    },
    "tags": []
   },
   "outputs": [
    {
     "data": {
      "text/plain": [
       "<matplotlib.axes._subplots.AxesSubplot at 0x7f6ff54fcd10>"
      ]
     },
     "execution_count": 15,
     "metadata": {},
     "output_type": "execute_result"
    },
    {
     "data": {
      "image/png": "[encoded data removed]",
      "text/plain": [
       "<Figure size 864x432 with 1 Axes>"
      ]
     },
     "metadata": {
      "needs_background": "light"
     },
     "output_type": "display_data"
    }
   ],
   "source": [
    "plt.figure(figsize = (12,6))\n",
    "sns.barplot(x = 'Product line', y = 'Male', data = df)"
   ]
  },
  {
   "cell_type": "markdown",
   "metadata": {
    "id": "-ASKDyOQJXnv",
    "papermill": {
     "duration": 0.035041,
     "end_time": "2022-06-07T11:47:23.841375",
     "exception": false,
     "start_time": "2022-06-07T11:47:23.806334",
     "status": "completed"
    },
    "tags": []
   },
   "source": [
    "**Plotting Customers per city**"
   ]
  },
  {
   "cell_type": "code",
   "execution_count": 16,
   "metadata": {
    "execution": {
     "iopub.execute_input": "2022-06-07T11:47:23.917379Z",
     "iopub.status.busy": "2022-06-07T11:47:23.916348Z",
     "iopub.status.idle": "2022-06-07T11:47:23.927766Z",
     "shell.execute_reply": "2022-06-07T11:47:23.928244Z",
     "shell.execute_reply.started": "2022-06-07T11:46:31.916038Z"
    },
    "id": "XZOXyUG9ajRd",
    "outputId": "96059f28-eda8-4a3e-e3ca-dfa942ba6c85",
    "papermill": {
     "duration": 0.051169,
     "end_time": "2022-06-07T11:47:23.928419",
     "exception": false,
     "start_time": "2022-06-07T11:47:23.877250",
     "status": "completed"
    },
    "tags": []
   },
   "outputs": [
    {
     "data": {
      "text/html": [
       "<div>\n",
       "<style scoped>\n",
       "    .dataframe tbody tr th:only-of-type {\n",
       "        vertical-align: middle;\n",
       "    }\n",
       "\n",
       "    .dataframe tbody tr th {\n",
       "        vertical-align: top;\n",
       "    }\n",
       "\n",
       "    .dataframe thead th {\n",
       "        text-align: right;\n",
       "    }\n",
       "</style>\n",
       "<table border=\"1\" class=\"dataframe\">\n",
       "  <thead>\n",
       "    <tr style=\"text-align: right;\">\n",
       "      <th></th>\n",
       "      <th>City</th>\n",
       "    </tr>\n",
       "  </thead>\n",
       "  <tbody>\n",
       "    <tr>\n",
       "      <th>Yangon</th>\n",
       "      <td>340</td>\n",
       "    </tr>\n",
       "    <tr>\n",
       "      <th>Mandalay</th>\n",
       "      <td>332</td>\n",
       "    </tr>\n",
       "    <tr>\n",
       "      <th>Naypyitaw</th>\n",
       "      <td>328</td>\n",
       "    </tr>\n",
       "  </tbody>\n",
       "</table>\n",
       "</div>"
      ],
      "text/plain": [
       "           City\n",
       "Yangon      340\n",
       "Mandalay    332\n",
       "Naypyitaw   328"
      ]
     },
     "execution_count": 16,
     "metadata": {},
     "output_type": "execute_result"
    }
   ],
   "source": [
    "place_df = pd.DataFrame(df['City'].value_counts())\n",
    "place_df"
   ]
  },
  {
   "cell_type": "code",
   "execution_count": 17,
   "metadata": {
    "execution": {
     "iopub.execute_input": "2022-06-07T11:47:24.006888Z",
     "iopub.status.busy": "2022-06-07T11:47:24.005730Z",
     "iopub.status.idle": "2022-06-07T11:47:24.137476Z",
     "shell.execute_reply": "2022-06-07T11:47:24.138019Z",
     "shell.execute_reply.started": "2022-06-07T11:46:34.185826Z"
    },
    "id": "yI_cY4wCc4AS",
    "outputId": "5ff84864-b6e9-4fbd-a09b-0219422d4573",
    "papermill": {
     "duration": 0.172707,
     "end_time": "2022-06-07T11:47:24.138228",
     "exception": false,
     "start_time": "2022-06-07T11:47:23.965521",
     "status": "completed"
    },
    "tags": []
   },
   "outputs": [
    {
     "data": {
      "text/plain": [
       "<matplotlib.axes._subplots.AxesSubplot at 0x7f6ff53f2090>"
      ]
     },
     "execution_count": 17,
     "metadata": {},
     "output_type": "execute_result"
    },
    {
     "data": {
      "image/png": "[encoded data removed]",
      "text/plain": [
       "<Figure size 432x288 with 1 Axes>"
      ]
     },
     "metadata": {
      "needs_background": "light"
     },
     "output_type": "display_data"
    }
   ],
   "source": [
    "sns.barplot(x = place_df.index  , y = place_df['City'], palette = 'hot')"
   ]
  },
  {
   "cell_type": "markdown",
   "metadata": {
    "id": "cOLNDuHzKVTi",
    "papermill": {
     "duration": 0.037442,
     "end_time": "2022-06-07T11:47:24.212941",
     "exception": false,
     "start_time": "2022-06-07T11:47:24.175499",
     "status": "completed"
    },
    "tags": []
   },
   "source": [
    "**Plotting different payment methods count**\n",
    "\n",
    "\n"
   ]
  },
  {
   "cell_type": "code",
   "execution_count": 18,
   "metadata": {
    "execution": {
     "iopub.execute_input": "2022-06-07T11:47:24.291319Z",
     "iopub.status.busy": "2022-06-07T11:47:24.290624Z",
     "iopub.status.idle": "2022-06-07T11:47:24.303071Z",
     "shell.execute_reply": "2022-06-07T11:47:24.302392Z",
     "shell.execute_reply.started": "2022-06-07T11:46:36.495484Z"
    },
    "id": "7FK8vRapKlHr",
    "outputId": "679bf334-0fe4-48f6-9413-04f5eb7b276a",
    "papermill": {
     "duration": 0.05306,
     "end_time": "2022-06-07T11:47:24.303230",
     "exception": false,
     "start_time": "2022-06-07T11:47:24.250170",
     "status": "completed"
    },
    "tags": []
   },
   "outputs": [
    {
     "data": {
      "text/html": [
       "<div>\n",
       "<style scoped>\n",
       "    .dataframe tbody tr th:only-of-type {\n",
       "        vertical-align: middle;\n",
       "    }\n",
       "\n",
       "    .dataframe tbody tr th {\n",
       "        vertical-align: top;\n",
       "    }\n",
       "\n",
       "    .dataframe thead th {\n",
       "        text-align: right;\n",
       "    }\n",
       "</style>\n",
       "<table border=\"1\" class=\"dataframe\">\n",
       "  <thead>\n",
       "    <tr style=\"text-align: right;\">\n",
       "      <th></th>\n",
       "      <th>Payment</th>\n",
       "    </tr>\n",
       "  </thead>\n",
       "  <tbody>\n",
       "    <tr>\n",
       "      <th>Ewallet</th>\n",
       "      <td>345</td>\n",
       "    </tr>\n",
       "    <tr>\n",
       "      <th>Cash</th>\n",
       "      <td>344</td>\n",
       "    </tr>\n",
       "    <tr>\n",
       "      <th>Credit card</th>\n",
       "      <td>311</td>\n",
       "    </tr>\n",
       "  </tbody>\n",
       "</table>\n",
       "</div>"
      ],
      "text/plain": [
       "             Payment\n",
       "Ewallet          345\n",
       "Cash             344\n",
       "Credit card      311"
      ]
     },
     "execution_count": 18,
     "metadata": {},
     "output_type": "execute_result"
    }
   ],
   "source": [
    "payment_df = pd.DataFrame(df['Payment'].value_counts())\n",
    "payment_df"
   ]
  },
  {
   "cell_type": "code",
   "execution_count": 19,
   "metadata": {
    "execution": {
     "iopub.execute_input": "2022-06-07T11:47:24.395805Z",
     "iopub.status.busy": "2022-06-07T11:47:24.388186Z",
     "iopub.status.idle": "2022-06-07T11:47:24.520416Z",
     "shell.execute_reply": "2022-06-07T11:47:24.519735Z",
     "shell.execute_reply.started": "2022-06-07T11:46:38.284846Z"
    },
    "id": "dqB-mKfdKSZN",
    "outputId": "fa7cd6e6-34ca-4c75-90dd-340f97a1249f",
    "papermill": {
     "duration": 0.179172,
     "end_time": "2022-06-07T11:47:24.520551",
     "exception": false,
     "start_time": "2022-06-07T11:47:24.341379",
     "status": "completed"
    },
    "tags": []
   },
   "outputs": [
    {
     "data": {
      "text/plain": [
       "<matplotlib.axes._subplots.AxesSubplot at 0x7f6ff53bc310>"
      ]
     },
     "execution_count": 19,
     "metadata": {},
     "output_type": "execute_result"
    },
    {
     "data": {
      "image/png": "[encoded data removed]",
      "text/plain": [
       "<Figure size 432x288 with 1 Axes>"
      ]
     },
     "metadata": {
      "needs_background": "light"
     },
     "output_type": "display_data"
    }
   ],
   "source": [
    "sns.barplot(x =payment_df.index , y = payment_df.Payment)"
   ]
  },
  {
   "cell_type": "markdown",
   "metadata": {
    "id": "GVeRps3sLnv-",
    "papermill": {
     "duration": 0.037839,
     "end_time": "2022-06-07T11:47:24.596797",
     "exception": false,
     "start_time": "2022-06-07T11:47:24.558958",
     "status": "completed"
    },
    "tags": []
   },
   "source": [
    "**Getting Gross Income Plot for each product line**"
   ]
  },
  {
   "cell_type": "code",
   "execution_count": 20,
   "metadata": {
    "execution": {
     "iopub.execute_input": "2022-06-07T11:47:24.681727Z",
     "iopub.status.busy": "2022-06-07T11:47:24.680830Z",
     "iopub.status.idle": "2022-06-07T11:47:25.083739Z",
     "shell.execute_reply": "2022-06-07T11:47:25.084323Z",
     "shell.execute_reply.started": "2022-06-07T11:46:40.995585Z"
    },
    "id": "QCs0YFaQLs3W",
    "outputId": "79cec7e1-af30-4a1e-a3c9-d48fd4a902c3",
    "papermill": {
     "duration": 0.449386,
     "end_time": "2022-06-07T11:47:25.084499",
     "exception": false,
     "start_time": "2022-06-07T11:47:24.635113",
     "status": "completed"
    },
    "tags": []
   },
   "outputs": [
    {
     "data": {
      "text/plain": [
       "<matplotlib.axes._subplots.AxesSubplot at 0x7f6ff5367c50>"
      ]
     },
     "execution_count": 20,
     "metadata": {},
     "output_type": "execute_result"
    },
    {
     "data": {
      "image/png": "[encoded data removed]",
      "text/plain": [
       "<Figure size 864x432 with 1 Axes>"
      ]
     },
     "metadata": {
      "needs_background": "light"
     },
     "output_type": "display_data"
    }
   ],
   "source": [
    "plt.figure(figsize= (12,6))\n",
    "sns.barplot(x = df['Product line'], y = df['gross income'])"
   ]
  },
  {
   "cell_type": "markdown",
   "metadata": {
    "id": "kplluJ0DMPds",
    "papermill": {
     "duration": 0.039547,
     "end_time": "2022-06-07T11:47:25.164294",
     "exception": false,
     "start_time": "2022-06-07T11:47:25.124747",
     "status": "completed"
    },
    "tags": []
   },
   "source": [
    "**Getting Rating Plot for each product line**"
   ]
  },
  {
   "cell_type": "code",
   "execution_count": 21,
   "metadata": {
    "execution": {
     "iopub.execute_input": "2022-06-07T11:47:25.269682Z",
     "iopub.status.busy": "2022-06-07T11:47:25.268590Z",
     "iopub.status.idle": "2022-06-07T11:47:25.737967Z",
     "shell.execute_reply": "2022-06-07T11:47:25.737306Z",
     "shell.execute_reply.started": "2022-06-07T11:46:44.099956Z"
    },
    "id": "adSFweBpMSR4",
    "outputId": "29f29dbe-fdae-4a6f-b21f-8b784d4f3d0e",
    "papermill": {
     "duration": 0.534072,
     "end_time": "2022-06-07T11:47:25.738096",
     "exception": false,
     "start_time": "2022-06-07T11:47:25.204024",
     "status": "completed"
    },
    "tags": []
   },
   "outputs": [
    {
     "data": {
      "text/plain": [
       "([<matplotlib.axis.XTick at 0x7f6ff8234e50>,\n",
       "  <matplotlib.axis.XTick at 0x7f6ff8234990>,\n",
       "  <matplotlib.axis.XTick at 0x7f6ff572b790>,\n",
       "  <matplotlib.axis.XTick at 0x7f6ff526dbd0>,\n",
       "  <matplotlib.axis.XTick at 0x7f6ff5346850>,\n",
       "  <matplotlib.axis.XTick at 0x7f6ff5350bd0>,\n",
       "  <matplotlib.axis.XTick at 0x7f6ff5346410>,\n",
       "  <matplotlib.axis.XTick at 0x7f6ff5260590>,\n",
       "  <matplotlib.axis.XTick at 0x7f6ff5377390>,\n",
       "  <matplotlib.axis.XTick at 0x7f6ff51f6250>,\n",
       "  <matplotlib.axis.XTick at 0x7f6ff5377150>],\n",
       " <a list of 11 Text major ticklabel objects>)"
      ]
     },
     "execution_count": 21,
     "metadata": {},
     "output_type": "execute_result"
    },
    {
     "data": {
      "image/png": "[encoded data removed]",
      "text/plain": [
       "<Figure size 864x432 with 1 Axes>"
      ]
     },
     "metadata": {
      "needs_background": "light"
     },
     "output_type": "display_data"
    }
   ],
   "source": [
    "xdata = [0,1,2,3,4,5,6,7,8,9,10]\n",
    "plt.figure(figsize = (12,6))\n",
    "sns.barplot(y = df['Product line'], x = df['Rating'])\n",
    "plt.xticks(xdata)"
   ]
  },
  {
   "cell_type": "markdown",
   "metadata": {
    "id": "xs_G7xfQPUt5",
    "papermill": {
     "duration": 0.041775,
     "end_time": "2022-06-07T11:47:25.821690",
     "exception": false,
     "start_time": "2022-06-07T11:47:25.779915",
     "status": "completed"
    },
    "tags": []
   },
   "source": [
    "**Total bill in each product line**"
   ]
  },
  {
   "cell_type": "code",
   "execution_count": 22,
   "metadata": {
    "execution": {
     "iopub.execute_input": "2022-06-07T11:47:25.926563Z",
     "iopub.status.busy": "2022-06-07T11:47:25.925701Z",
     "iopub.status.idle": "2022-06-07T11:47:26.277740Z",
     "shell.execute_reply": "2022-06-07T11:47:26.277020Z",
     "shell.execute_reply.started": "2022-06-07T11:46:47.757685Z"
    },
    "id": "ozNmL8lxPZ2D",
    "outputId": "4976c668-07a1-4937-d979-0464e2dc32d6",
    "papermill": {
     "duration": 0.41496,
     "end_time": "2022-06-07T11:47:26.277875",
     "exception": false,
     "start_time": "2022-06-07T11:47:25.862915",
     "status": "completed"
    },
    "tags": []
   },
   "outputs": [
    {
     "data": {
      "text/plain": [
       "<matplotlib.axes._subplots.AxesSubplot at 0x7f6ff52726d0>"
      ]
     },
     "execution_count": 22,
     "metadata": {},
     "output_type": "execute_result"
    },
    {
     "data": {
      "image/png": "[encoded data removed]",
      "text/plain": [
       "<Figure size 864x432 with 1 Axes>"
      ]
     },
     "metadata": {
      "needs_background": "light"
     },
     "output_type": "display_data"
    }
   ],
   "source": [
    "plt.figure(figsize = (12,6))\n",
    "sns.barplot(x = df['Total'] , y = df['Product line'])"
   ]
  },
  {
   "cell_type": "markdown",
   "metadata": {
    "id": "ehdn_uSXLS_p",
    "papermill": {
     "duration": 0.041813,
     "end_time": "2022-06-07T11:47:26.361899",
     "exception": false,
     "start_time": "2022-06-07T11:47:26.320086",
     "status": "completed"
    },
    "tags": []
   },
   "source": [
    "**Exploring Quantity Column**"
   ]
  },
  {
   "cell_type": "code",
   "execution_count": 23,
   "metadata": {
    "execution": {
     "iopub.execute_input": "2022-06-07T11:47:26.458528Z",
     "iopub.status.busy": "2022-06-07T11:47:26.457676Z",
     "iopub.status.idle": "2022-06-07T11:47:26.642316Z",
     "shell.execute_reply": "2022-06-07T11:47:26.641684Z",
     "shell.execute_reply.started": "2022-06-07T11:46:51.123467Z"
    },
    "id": "wj0bXrX7IUkm",
    "outputId": "c628d30c-fa5b-474d-ab22-c43716b99d52",
    "papermill": {
     "duration": 0.238527,
     "end_time": "2022-06-07T11:47:26.642461",
     "exception": false,
     "start_time": "2022-06-07T11:47:26.403934",
     "status": "completed"
    },
    "tags": []
   },
   "outputs": [
    {
     "data": {
      "text/plain": [
       "([<matplotlib.axis.XTick at 0x7f6ff5097950>,\n",
       "  <matplotlib.axis.XTick at 0x7f6ff50a7050>,\n",
       "  <matplotlib.axis.XTick at 0x7f6ff50a0bd0>,\n",
       "  <matplotlib.axis.XTick at 0x7f6ff50c6fd0>,\n",
       "  <matplotlib.axis.XTick at 0x7f6ff5068f10>,\n",
       "  <matplotlib.axis.XTick at 0x7f6ff5078310>,\n",
       "  <matplotlib.axis.XTick at 0x7f6ff5078810>,\n",
       "  <matplotlib.axis.XTick at 0x7f6ff5078d50>,\n",
       "  <matplotlib.axis.XTick at 0x7f6ff507e350>,\n",
       "  <matplotlib.axis.XTick at 0x7f6ff507e810>],\n",
       " <a list of 10 Text major ticklabel objects>)"
      ]
     },
     "execution_count": 23,
     "metadata": {},
     "output_type": "execute_result"
    },
    {
     "data": {
      "image/png": "[encoded data removed]",
      "text/plain": [
       "<Figure size 864x432 with 1 Axes>"
      ]
     },
     "metadata": {
      "needs_background": "light"
     },
     "output_type": "display_data"
    }
   ],
   "source": [
    "xdata = [1,2,3,4,5,6,7,8,9,10]\n",
    "plt.figure(figsize = (12,6))\n",
    "sns.distplot(df['Quantity'])\n",
    "plt.xticks(xdata)"
   ]
  },
  {
   "cell_type": "code",
   "execution_count": 24,
   "metadata": {
    "execution": {
     "iopub.execute_input": "2022-06-07T11:47:26.742429Z",
     "iopub.status.busy": "2022-06-07T11:47:26.741432Z",
     "iopub.status.idle": "2022-06-07T11:47:26.746779Z",
     "shell.execute_reply": "2022-06-07T11:47:26.746061Z",
     "shell.execute_reply.started": "2022-06-07T11:46:54.506526Z"
    },
    "id": "RTbBFcw4KC3k",
    "outputId": "2ab5e8b3-2d67-4605-fe7d-9a9a5af9c751",
    "papermill": {
     "duration": 0.060261,
     "end_time": "2022-06-07T11:47:26.746919",
     "exception": false,
     "start_time": "2022-06-07T11:47:26.686658",
     "status": "completed"
    },
    "tags": []
   },
   "outputs": [
    {
     "data": {
      "text/html": [
       "<div>\n",
       "<style scoped>\n",
       "    .dataframe tbody tr th:only-of-type {\n",
       "        vertical-align: middle;\n",
       "    }\n",
       "\n",
       "    .dataframe tbody tr th {\n",
       "        vertical-align: top;\n",
       "    }\n",
       "\n",
       "    .dataframe thead th {\n",
       "        text-align: right;\n",
       "    }\n",
       "</style>\n",
       "<table border=\"1\" class=\"dataframe\">\n",
       "  <thead>\n",
       "    <tr style=\"text-align: right;\">\n",
       "      <th></th>\n",
       "      <th>Quantity</th>\n",
       "    </tr>\n",
       "  </thead>\n",
       "  <tbody>\n",
       "    <tr>\n",
       "      <th>10</th>\n",
       "      <td>119</td>\n",
       "    </tr>\n",
       "    <tr>\n",
       "      <th>1</th>\n",
       "      <td>112</td>\n",
       "    </tr>\n",
       "    <tr>\n",
       "      <th>4</th>\n",
       "      <td>109</td>\n",
       "    </tr>\n",
       "    <tr>\n",
       "      <th>7</th>\n",
       "      <td>102</td>\n",
       "    </tr>\n",
       "    <tr>\n",
       "      <th>5</th>\n",
       "      <td>102</td>\n",
       "    </tr>\n",
       "    <tr>\n",
       "      <th>6</th>\n",
       "      <td>98</td>\n",
       "    </tr>\n",
       "    <tr>\n",
       "      <th>9</th>\n",
       "      <td>92</td>\n",
       "    </tr>\n",
       "    <tr>\n",
       "      <th>2</th>\n",
       "      <td>91</td>\n",
       "    </tr>\n",
       "    <tr>\n",
       "      <th>3</th>\n",
       "      <td>90</td>\n",
       "    </tr>\n",
       "    <tr>\n",
       "      <th>8</th>\n",
       "      <td>85</td>\n",
       "    </tr>\n",
       "  </tbody>\n",
       "</table>\n",
       "</div>"
      ],
      "text/plain": [
       "    Quantity\n",
       "10       119\n",
       "1        112\n",
       "4        109\n",
       "7        102\n",
       "5        102\n",
       "6         98\n",
       "9         92\n",
       "2         91\n",
       "3         90\n",
       "8         85"
      ]
     },
     "execution_count": 24,
     "metadata": {},
     "output_type": "execute_result"
    }
   ],
   "source": [
    "quantity_df = pd.DataFrame(df['Quantity'].value_counts())\n",
    "quantity_df"
   ]
  },
  {
   "cell_type": "code",
   "execution_count": 25,
   "metadata": {
    "execution": {
     "iopub.execute_input": "2022-06-07T11:47:26.847355Z",
     "iopub.status.busy": "2022-06-07T11:47:26.841292Z",
     "iopub.status.idle": "2022-06-07T11:47:27.046773Z",
     "shell.execute_reply": "2022-06-07T11:47:27.046039Z",
     "shell.execute_reply.started": "2022-06-07T11:46:57.368330Z"
    },
    "id": "xvNU7-vdQq8f",
    "outputId": "3b9a0c81-b72b-4b62-fb07-0a19dabf1f77",
    "papermill": {
     "duration": 0.256214,
     "end_time": "2022-06-07T11:47:27.046910",
     "exception": false,
     "start_time": "2022-06-07T11:47:26.790696",
     "status": "completed"
    },
    "tags": []
   },
   "outputs": [
    {
     "data": {
      "text/plain": [
       "<matplotlib.axes._subplots.AxesSubplot at 0x7f6ff502db90>"
      ]
     },
     "execution_count": 25,
     "metadata": {},
     "output_type": "execute_result"
    },
    {
     "data": {
      "image/png": "[encoded data removed]",
      "text/plain": [
       "<Figure size 864x432 with 1 Axes>"
      ]
     },
     "metadata": {
      "needs_background": "light"
     },
     "output_type": "display_data"
    }
   ],
   "source": [
    "plt.figure(figsize=(12,6))\n",
    "sns.barplot(x = quantity_df.index , y = quantity_df['Quantity'] , palette = 'inferno')"
   ]
  },
  {
   "cell_type": "markdown",
   "metadata": {
    "papermill": {
     "duration": 0.044765,
     "end_time": "2022-06-07T11:47:27.136503",
     "exception": false,
     "start_time": "2022-06-07T11:47:27.091738",
     "status": "completed"
    },
    "tags": []
   },
   "source": [
    "**Plotting heatmap to check if any correlation between columns**"
   ]
  },
  {
   "cell_type": "code",
   "execution_count": 26,
   "metadata": {
    "execution": {
     "iopub.execute_input": "2022-06-07T11:47:27.250055Z",
     "iopub.status.busy": "2022-06-07T11:47:27.246618Z",
     "iopub.status.idle": "2022-06-07T11:47:27.530664Z",
     "shell.execute_reply": "2022-06-07T11:47:27.529776Z",
     "shell.execute_reply.started": "2022-06-07T11:47:00.077060Z"
    },
    "papermill": {
     "duration": 0.349203,
     "end_time": "2022-06-07T11:47:27.530837",
     "exception": false,
     "start_time": "2022-06-07T11:47:27.181634",
     "status": "completed"
    },
    "tags": []
   },
   "outputs": [
    {
     "data": {
      "text/plain": [
       "<matplotlib.axes._subplots.AxesSubplot at 0x7f6ff4f5d4d0>"
      ]
     },
     "execution_count": 26,
     "metadata": {},
     "output_type": "execute_result"
    },
    {
     "data": {
      "image/png": "[encoded data removed]",
      "text/plain": [
       "<Figure size 432x288 with 2 Axes>"
      ]
     },
     "metadata": {
      "needs_background": "light"
     },
     "output_type": "display_data"
    }
   ],
   "source": [
    "sns.heatmap(df.corr())"
   ]
  },
  {
   "cell_type": "markdown",
   "metadata": {
    "id": "eq2wYXgLRiAQ",
    "papermill": {
     "duration": 0.046643,
     "end_time": "2022-06-07T11:47:27.624982",
     "exception": false,
     "start_time": "2022-06-07T11:47:27.578339",
     "status": "completed"
    },
    "tags": []
   },
   "source": [
    "## **Inference from the Analysis**\n",
    "\n",
    "1.  Total Customers = 1000\n",
    "2.  Total Females = 501\n",
    "3.  Total Males = 499\n",
    "4.  Min Rating = 4\n",
    "5.  Max Rating = 10\n",
    "6.  Average Rating = 6.97\n",
    "7.  Best Average Rating in Food & Beverages\n",
    "8.  Max Average Gross Income in Home & Lifestyle\n",
    "9.  Min Average Gross Income in Fashion Accessories\n",
    "10. Maximum customers buys 10 quantities\n",
    "11. Max Average total bill in Home and lifestyle\n",
    "12. Min Average total bill in Fashion Accessories\n",
    "13. Maximum People pays through e-wallet\n",
    "14. Maximum people comes from Yangon City\n",
    "15. Max Average Sales of Fashion Accessories is from Females\n",
    "16. Max Average Sales of Health & Beauty is from Males \n"
   ]
  }
 ],
 "metadata": {
  "kernelspec": {
   "display_name": "Python 3",
   "language": "python",
   "name": "python3"
  },
  "language_info": {
   "codemirror_mode": {
    "name": "ipython",
    "version": 3
   },
   "file_extension": ".py",
   "mimetype": "text/x-python",
   "name": "python",
   "nbconvert_exporter": "python",
   "pygments_lexer": "ipython3",
   "version": "3.7.6"
  },
  "papermill": {
   "duration": 12.219267,
   "end_time": "2022-06-07T11:47:27.781990",
   "environment_variables": {},
   "exception": null,
   "input_path": "__notebook__.ipynb",
   "output_path": "__notebook__.ipynb",
   "parameters": {},
   "start_time": "2022-06-07T11:47:15.562723",
   "version": "2.1.0"
  }
 },
 "nbformat": 4,
 "nbformat_minor": 4
}
